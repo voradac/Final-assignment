{
  "metadata": {
    "language_info": {
      "codemirror_mode": {
        "name": "python",
        "version": 3
      },
      "file_extension": ".py",
      "mimetype": "text/x-python",
      "name": "python",
      "nbconvert_exporter": "python",
      "pygments_lexer": "ipython3",
      "version": "3.8"
    },
    "kernelspec": {
      "name": "python",
      "display_name": "Pyolite",
      "language": "python"
    }
  },
  "nbformat_minor": 4,
  "nbformat": 4,
  "cells": [
    {
      "cell_type": "markdown",
      "source": "# My Jupyter Notebook on IBM Watson Studio",
      "metadata": {
        "tags": []
      }
    },
    {
      "cell_type": "markdown",
      "source": "**Eve Chuenchob** <br>\nI am currently a Research Scientist and hoping to learn and incorporate data science into my workflow to further my career.",
      "metadata": {
        "tags": []
      }
    },
    {
      "cell_type": "markdown",
      "source": "*I am interested in data science because I think it is the future. I am certain that analysis using data science is the way forward in order to process scientific data efficiently.*",
      "metadata": {}
    },
    {
      "cell_type": "markdown",
      "source": "### The following code will show you the sum of 1 plus 1, which is 2.",
      "metadata": {
        "tags": []
      }
    },
    {
      "cell_type": "code",
      "source": "1+1",
      "metadata": {
        "trusted": true
      },
      "execution_count": 2,
      "outputs": [
        {
          "execution_count": 2,
          "output_type": "execute_result",
          "data": {
            "text/plain": "2"
          },
          "metadata": {}
        }
      ]
    },
    {
      "cell_type": "markdown",
      "source": "#### Mrs. Myers' Banana Bread\n___\n##### INGREDIENTS\n* 2 cups (424 g) sugar\n* 1 cup (226 g) butter, softened\n* 3 cups (384 g) sifted flour\n* 1 tsp. baking soda\n* 1 tsp. table salt or 1.5 teaspoons kosher salt\n* 4 to 5 eggs\n* 2 tsp. vanilla extract\n* 1 cup nuts, optional\n* 1/2 cup buttermilk\n* 1 quart mashed bananas, about 6 to 8 (ripe to overripe)\n\n##### INSTRUCTIONS\n1. Preheat the oven to 350ºF. Butter two 8.5 x 4.5-inch loaf pans. (Butter generously to ensure no sticking.)\n2. In a stand mixer, cream butter and sugar until light and fluffy.\n3. Meanwhile, in a separate bowl, whisk together flour, baking soda and salt.\n4. With the mixer on low, add the eggs one at a time, beating after each addition. Add the vanilla, buttermilk and bananas.\n5. Add the flour mixture in two additions, and mix until just combined. Divide batter between the two prepared pans. Bake for approximately 1 hour.\n6. Remove from oven and turn loaves out onto cooling rack immediately. Let cool.\n\nLink to full recipe: <https://alexandracooks.com/2012/03/08/mrs-myers-banana-bread/>",
      "metadata": {}
    }
  ]
}